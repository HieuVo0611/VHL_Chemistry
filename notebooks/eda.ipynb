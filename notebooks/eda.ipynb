{
 "cells": [
  {
   "cell_type": "code",
   "execution_count": null,
   "id": "e03b6d77",
   "metadata": {},
   "outputs": [],
   "source": [
    "import pandas as pd\n",
    "import matplotlib.pyplot as plt\n",
    "import seaborn as sns\n",
    "from src.data.load_data import load_dataset\n",
    "from src.data.preprocess import pad_dataset\n",
    "from src.data.feature_engineering import extract_features_dataset\n",
    "\n",
    "# Step 1: Load data\n",
    "data_list, labels_list = load_dataset('../data/raw')\n",
    "padded_list = pad_dataset(data_list)\n",
    "features_df = extract_features_dataset(padded_list)\n",
    "labels_df = pd.DataFrame(labels_list, columns=['ENR', 'CIP'])\n",
    "\n",
    "# Combine features & labels\n",
    "full_df = pd.concat([features_df, labels_df], axis=1)\n",
    "full_df.head()\n"
   ]
  },
  {
   "cell_type": "code",
   "execution_count": null,
   "id": "cc14d88a",
   "metadata": {},
   "outputs": [],
   "source": [
    "# Plot 1 sample\n",
    "sample_df = padded_list[0]\n",
    "\n",
    "plt.figure(figsize=(10, 4))\n",
    "plt.plot(sample_df['X'], label='X')\n",
    "plt.plot(sample_df['Y'], label='Y')\n",
    "plt.title('Sample Time Series')\n",
    "plt.legend()\n",
    "plt.show()\n"
   ]
  },
  {
   "cell_type": "code",
   "execution_count": null,
   "id": "d47f1988",
   "metadata": {},
   "outputs": [],
   "source": [
    "plt.figure(figsize=(6, 4))\n",
    "sns.scatterplot(x=labels_df['ENR'], y=labels_df['CIP'])\n",
    "plt.title('Label Distribution (ENR vs CIP)')\n",
    "plt.xlabel('ENR Concentration (uM)')\n",
    "plt.ylabel('CIP Concentration (uM)')\n",
    "plt.show()\n"
   ]
  },
  {
   "cell_type": "code",
   "execution_count": null,
   "id": "248970e1",
   "metadata": {},
   "outputs": [],
   "source": [
    "plt.figure(figsize=(12, 8))\n",
    "corr = full_df.corr()\n",
    "sns.heatmap(corr, cmap='coolwarm', center=0)\n",
    "plt.title('Feature & Label Correlation Heatmap')\n",
    "plt.show()\n"
   ]
  },
  {
   "cell_type": "code",
   "execution_count": null,
   "id": "580bf7ce",
   "metadata": {},
   "outputs": [],
   "source": [
    "import joblib\n",
    "import numpy as np\n",
    "\n",
    "# Load trained model\n",
    "model = joblib.load('../outputs/models/random_forest_model.pkl')\n",
    "\n",
    "# RandomForest trả về importance cho mỗi target => trung bình 2 cái\n",
    "importances = np.mean([est.feature_importances_ for est in model.estimators_], axis=0)\n",
    "\n",
    "# Plot\n",
    "feat_names = features_df.columns\n",
    "feat_importance_df = pd.DataFrame({'Feature': feat_names, 'Importance': importances})\n",
    "feat_importance_df = feat_importance_df.sort_values(by='Importance', ascending=False)\n",
    "\n",
    "plt.figure(figsize=(10, 6))\n",
    "sns.barplot(x='Importance', y='Feature', data=feat_importance_df)\n",
    "plt.title('Feature Importance (Random Forest)')\n",
    "plt.show()\n"
   ]
  }
 ],
 "metadata": {
  "language_info": {
   "name": "python"
  }
 },
 "nbformat": 4,
 "nbformat_minor": 5
}
